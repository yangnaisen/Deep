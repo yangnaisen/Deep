{
 "cells": [
  {
   "cell_type": "markdown",
   "metadata": {},
   "source": [
    "# 安装nvidia驱动"
   ]
  },
  {
   "cell_type": "markdown",
   "metadata": {},
   "source": [
    "选择linux全版本的run文件，而不是deb文件：\n",
    "1. Ctrl+Alt+F1\n",
    "2. `sudo service lightdm stop`\n",
    "3. `sudo ./NVIDIA-Linux-x86_64-381.22.run -no-x-check -no-nouveau-check -no-opengl-files`"
   ]
  },
  {
   "cell_type": "markdown",
   "metadata": {},
   "source": [
    "# 安装cuda toolkit"
   ]
  },
  {
   "cell_type": "markdown",
   "metadata": {},
   "source": [
    "# 无法进入图形界面 The system is running in low-graphics mode"
   ]
  },
  {
   "cell_type": "markdown",
   "metadata": {},
   "source": [
    "1.Ctrl+ALT+F1 进入控制台\n",
    "\n",
    "2.输入用户名和密码进入系统\n",
    "\n",
    "3.输入以下命令:\n",
    "\n",
    "cd /etc/X11    \n",
    "sudo cp xorg.conf.failsafe xorg.conf   \n",
    "sudo reboot  "
   ]
  },
  {
   "cell_type": "markdown",
   "metadata": {},
   "source": [
    "# “检测到系统程序出现问题”解决方法"
   ]
  },
  {
   "cell_type": "markdown",
   "metadata": {},
   "source": [
    " Ubuntu每次开机后提示：检测到系统程序出现问题的解决方法\n",
    " 首先，错误报告存放位置：\n",
    "```\n",
    " cd /var/crash/   \n",
    " ls  //可以查看错误报告\n",
    " ```"
   ]
  },
  {
   "cell_type": "markdown",
   "metadata": {},
   "source": [
    "# 驱动安装失败时的处理方式"
   ]
  },
  {
   "cell_type": "markdown",
   "metadata": {},
   "source": [
    "1. 进入文本模式：CTRL+ALT+F1 \n",
    "2. Uninstall any previous drivers:\n",
    "```\n",
    "sudo apt-get remove nvidia-*\n",
    "sudo apt-get autoremove\n",
    "```\n",
    "\n",
    "3. Uninstall the drivers from the .run file:\n",
    "```\n",
    "sudo nvidia-uninstall\n",
    "```"
   ]
  },
  {
   "cell_type": "markdown",
   "metadata": {},
   "source": [
    "# 使得jupyter notebook 可以切换不同虚拟环境"
   ]
  },
  {
   "cell_type": "markdown",
   "metadata": {},
   "source": [
    "`conda install nb_conda`"
   ]
  },
  {
   "cell_type": "code",
   "execution_count": null,
   "metadata": {},
   "outputs": [],
   "source": []
  }
 ],
 "metadata": {
  "kernelspec": {
   "display_name": "Python 3",
   "language": "python",
   "name": "python3"
  },
  "language_info": {
   "codemirror_mode": {
    "name": "ipython",
    "version": 3
   },
   "file_extension": ".py",
   "mimetype": "text/x-python",
   "name": "python",
   "nbconvert_exporter": "python",
   "pygments_lexer": "ipython3",
   "version": "3.6.0"
  }
 },
 "nbformat": 4,
 "nbformat_minor": 2
}
