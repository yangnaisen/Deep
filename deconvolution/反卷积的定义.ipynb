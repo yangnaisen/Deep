{
 "cells": [
  {
   "cell_type": "markdown",
   "metadata": {},
   "source": [
    "先来看一下 https://reference.wolfram.com/language/ref/ImageDeconvolve.html 上的描述：\n",
    "反卷积运算，通常用于加强图像的局部细节或边缘. 反卷积是卷积的逆运算操作，但和卷积不同，它是非线性、病态且非唯一的."
   ]
  },
  {
   "cell_type": "markdown",
   "metadata": {},
   "source": [
    "首先，反卷积也是卷积操作，只不过是方向相反。反卷积是以特征图为输入，以原始图像为输出。"
   ]
  },
  {
   "cell_type": "markdown",
   "metadata": {},
   "source": [
    "卷积的示意图如下：\n",
    "<img src=image/conv.gif width=200px/>"
   ]
  },
  {
   "cell_type": "markdown",
   "metadata": {},
   "source": [
    "反卷积的示意图如下：\n",
    "<img src=image/deconv.gif width=200px/>"
   ]
  },
  {
   "cell_type": "markdown",
   "metadata": {},
   "source": [
    "应用在神经网络中为：\n",
    "<img src=image/deconv_layer.png width=500px/>"
   ]
  },
  {
   "cell_type": "markdown",
   "metadata": {},
   "source": [
    "在文献中，它更多的被称为 transposed convolution，或者是fractionally strided convolution。被用于反卷积的核通常被称为“点扩散函数”（通常缩写为‘’psf‘’）。 "
   ]
  },
  {
   "cell_type": "markdown",
   "metadata": {},
   "source": [
    "卷积核对于输入图像的卷积运算，可以转化为矩阵相乘的形式。卷积核的运算可以写成是 $C$, 反卷积的操作可以写为 $C^T$。在二维卷积中，卷积矩阵的转置相当于卷积核的180度旋转。"
   ]
  },
  {
   "cell_type": "markdown",
   "metadata": {},
   "source": [
    "所以，同样卷积核的权值，可以使图像在卷积后，再反向卷积，变换回去。"
   ]
  },
  {
   "cell_type": "markdown",
   "metadata": {},
   "source": [
    "原始图像：\n",
    "<img src=image/input_tiger.gif width=600px/>"
   ]
  },
  {
   "cell_type": "markdown",
   "metadata": {},
   "source": [
    "高斯核的卷积运算后为：\n",
    "<img src=image/conv_tiger.gif width=400px/>"
   ]
  },
  {
   "cell_type": "markdown",
   "metadata": {},
   "source": [
    "反卷积后为：\n",
    "<img src=image/deconv_tiger.gif width=400px/>"
   ]
  },
  {
   "cell_type": "markdown",
   "metadata": {},
   "source": [
    "可以看到，反卷积后的图像与原始输入基本相同，但在细节处引入了伪像。"
   ]
  },
  {
   "cell_type": "markdown",
   "metadata": {},
   "source": [
    "需要注意的地方：\n",
    "\n",
    "* PSF 应该总是被规一化，以使得权值的总和为 1；\n",
    "\n",
    "* 如果 PSF 与模糊不匹配，反卷积无法加强细节效果，并且可能添加伪像；\n",
    "\n",
    "* 即使是模糊图像中的少量的噪声也会降低重建的质量；\n",
    "\n",
    "* 边界的填充方式也很重要。"
   ]
  },
  {
   "cell_type": "markdown",
   "metadata": {},
   "source": [
    "配合unpooling的方式，可以进行卷积网络可视化：\n",
    "\n",
    "<img src=image/unpooling.png width=500px/>"
   ]
  },
  {
   "cell_type": "markdown",
   "metadata": {},
   "source": [
    "<img src=image/visualize.png width=500px/>"
   ]
  },
  {
   "cell_type": "markdown",
   "metadata": {},
   "source": [
    "# 总结"
   ]
  },
  {
   "cell_type": "markdown",
   "metadata": {},
   "source": [
    "卷积是一个信息缩减的过程，反卷积并不能真正完全复原原始输入图像。当特征图的激活值很小时，可以把反卷积的过程，近似成一个激活值关于输入值的求偏导的过程。"
   ]
  }
 ],
 "metadata": {
  "kernelspec": {
   "display_name": "Python 2",
   "language": "python",
   "name": "python2"
  },
  "language_info": {
   "codemirror_mode": {
    "name": "ipython",
    "version": 2
   },
   "file_extension": ".py",
   "mimetype": "text/x-python",
   "name": "python",
   "nbconvert_exporter": "python",
   "pygments_lexer": "ipython2",
   "version": "2.7.11"
  }
 },
 "nbformat": 4,
 "nbformat_minor": 0
}
