{
 "cells": [
  {
   "cell_type": "markdown",
   "metadata": {},
   "source": [
    "MxNet所需要的依赖项为：\n",
    "\n",
    "- CUDA\n",
    "- Python\n",
    "- Opencv\n",
    "- cuDNN(可选)\n",
    "- atlas/mkl"
   ]
  },
  {
   "cell_type": "markdown",
   "metadata": {},
   "source": [
    "# 1.安装Ubuntu14.04"
   ]
  },
  {
   "cell_type": "markdown",
   "metadata": {},
   "source": [
    "选择Ubuntu 14.04的原因是，Ubuntu的版本至2016年7月CUDA7.5只支持15.04和14.04。"
   ]
  },
  {
   "cell_type": "markdown",
   "metadata": {},
   "source": [
    "# 2.安装CUDA和Anaconda"
   ]
  },
  {
   "cell_type": "markdown",
   "metadata": {},
   "source": [
    "###  安装CUDA"
   ]
  },
  {
   "cell_type": "markdown",
   "metadata": {},
   "source": [
    "本机使用的是K80的GPU，不支持OpenGL，使用CUDA.run文件安装。"
   ]
  },
  {
   "cell_type": "markdown",
   "metadata": {},
   "source": [
    "* 为CUDA.run驱动程序添加可执行权:\n",
    "```bash\n",
    "sudo chmod +x cuda.run\n",
    "```"
   ]
  },
  {
   "cell_type": "markdown",
   "metadata": {},
   "source": [
    "* 关闭可视化界面：\n",
    "```bash\n",
    "sudo service lightdm stop\n",
    "```\n",
    "然后切换到tty1：Ctrl+Alt+F1,可在纯字符界面下登陆用户；"
   ]
  },
  {
   "cell_type": "markdown",
   "metadata": {},
   "source": [
    "* 接下来运行安装cuda文件：\n",
    "```bash\n",
    "sudo ./cuda.run\n",
    "```\n",
    "安装过程中选择不安装OpenGL."
   ]
  },
  {
   "cell_type": "markdown",
   "metadata": {},
   "source": [
    "* 完成后，重新启动可视化界面：\n",
    "```bash\n",
    "sudo service lightdm start\n",
    "```"
   ]
  },
  {
   "cell_type": "markdown",
   "metadata": {},
   "source": [
    "* 安装完毕之后，打开bashrc文件，将cuda路径写入：\n",
    "```bash\n",
    "gedit ~/.bashrc\n",
    "```\n",
    "在basic文件中写入：\n",
    "```bash\n",
    "export PATH=$PATH:/usr/local/cuda/bin\n",
    "export LD_LIBRARY_PATH=:/usr/local/cuda/lib64\n",
    "```"
   ]
  },
  {
   "cell_type": "markdown",
   "metadata": {},
   "source": [
    "### 安装Anaconda "
   ]
  },
  {
   "cell_type": "markdown",
   "metadata": {},
   "source": [
    "接下来安装Anaconda软件包，以便利用其中的Python:\n",
    "```bash\n",
    "bash anaconda.sh\n",
    "```"
   ]
  },
  {
   "cell_type": "markdown",
   "metadata": {},
   "source": [
    "安装完成后重启系统。"
   ]
  },
  {
   "cell_type": "markdown",
   "metadata": {},
   "source": [
    "#  3.安装cudnn"
   ]
  },
  {
   "cell_type": "markdown",
   "metadata": {},
   "source": [
    "首先验证cuda是否安装正确：\n",
    "```bash\n",
    "nvcc -V\n",
    "```\n",
    "如果显示cuda的版本号则安装正确。"
   ]
  },
  {
   "cell_type": "markdown",
   "metadata": {},
   "source": [
    "下载支持的MxNet支持的cudnn版本，然后安装：\n",
    "```bash\n",
    "tar -zxf cudnn.tgz\n",
    "cd cuda\n",
    "sudo cp lib64/* /usr/local/cuda/lib64/\n",
    "sudo cp include/cudnn.h /usr/local/cuda/include/\n",
    "```"
   ]
  },
  {
   "cell_type": "markdown",
   "metadata": {},
   "source": [
    "# 4.安装MxNet"
   ]
  },
  {
   "cell_type": "markdown",
   "metadata": {},
   "source": [
    "首先安装依赖项：\n",
    "```bash\n",
    "sudo apt-get update\n",
    "sudo apt-get install -y build-essential git libatlas-base-dev libopencv-dev\n",
    "```"
   ]
  },
  {
   "cell_type": "markdown",
   "metadata": {},
   "source": [
    "然后下载源码：\n",
    "```bash\n",
    "git clone --recursive https://github.com/dmlc/mxnet\n",
    "```"
   ]
  },
  {
   "cell_type": "markdown",
   "metadata": {},
   "source": [
    "在下载好的mxnet文件夹中，找到make文件夹。把make下的config.mk文件复制到mxnet文件夹下。然后修改其中的配置：\n",
    "```bash\n",
    "USE_CUDA = 1\n",
    "```"
   ]
  },
  {
   "cell_type": "markdown",
   "metadata": {},
   "source": [
    "编译文件：\n",
    "```bash\n",
    "cd mxnet; make -j$(nproc)\n",
    "```"
   ]
  },
  {
   "cell_type": "markdown",
   "metadata": {},
   "source": [
    "打开bashrc文件：\n",
    "```bash\n",
    "gedit ~/.bashrc\n",
    "```\n",
    "将编译好的python代码路径导入：\n",
    "```bash\n",
    "export PYTHONPATH=~/mxnet/python\n",
    "```\n",
    "然后重启系统。"
   ]
  },
  {
   "cell_type": "markdown",
   "metadata": {},
   "source": [
    "用CIFAR 10数据集测试一下本机的运行速度：\n",
    "```bash\n",
    "cd mxnet/example/image-classification\n",
    "python train_cifar10.py --batch-size 128 --lr 0.1 --lr-factor .94 --num-epoch 5 --gpus 0,2,4,6\n",
    "```"
   ]
  },
  {
   "cell_type": "markdown",
   "metadata": {},
   "source": [
    "由于GPU驱动的原因，无法使用X Service查看GPU使用情况。可以使用命令行，动态查看GPU的显存使用情况、工作效率和温度:\n",
    "```bash\n",
    "nvidia-smi -l\n",
    "```"
   ]
  },
  {
   "cell_type": "markdown",
   "metadata": {},
   "source": [
    "mxnet官方网站给出的性能是：\n",
    "\n",
    "  | 1 GTX 980 | 2 GTX 980 | 4 GTX 980 |\n",
    "  | --- | --- | --- |\n",
    "  | 842 img/sec | 1640 img/sec | 2943 img/sec |"
   ]
  },
  {
   "cell_type": "markdown",
   "metadata": {},
   "source": [
    "mxnet官网给出的精度参考。Accuracy vs epoch：\n",
    "<img src=image/inception-with-bn-cifar10.png width=500px/>"
   ]
  }
 ],
 "metadata": {
  "kernelspec": {
   "display_name": "Python 2",
   "language": "python",
   "name": "python2"
  },
  "language_info": {
   "codemirror_mode": {
    "name": "ipython",
    "version": 2
   },
   "file_extension": ".py",
   "mimetype": "text/x-python",
   "name": "python",
   "nbconvert_exporter": "python",
   "pygments_lexer": "ipython2",
   "version": "2.7.11"
  }
 },
 "nbformat": 4,
 "nbformat_minor": 0
}
